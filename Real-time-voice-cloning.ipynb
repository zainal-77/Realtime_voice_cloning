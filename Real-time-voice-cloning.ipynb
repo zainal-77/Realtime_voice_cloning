{
  "cells": [
    {
      "cell_type": "markdown",
      "metadata": {
        "id": "AWt2GlOZ3dgM"
      },
      "source": [
        "Download the respository from github"
      ]
    },
    {
      "cell_type": "code",
      "execution_count": null,
      "metadata": {
        "id": "pfMaA3Sx3dkk"
      },
      "outputs": [],
      "source": [
        "!git clone https://github.com/CorentinJ/Real-Time-Voice-Cloning.git"
      ]
    },
    {
      "cell_type": "markdown",
      "metadata": {
        "id": "8Ro9h_Iw3duq"
      },
      "source": [
        "change directory to the folder which we just cloned"
      ]
    },
    {
      "cell_type": "code",
      "execution_count": null,
      "metadata": {
        "id": "-_wu4L8q3dur"
      },
      "outputs": [],
      "source": [
        "cd Real-Time-Voice-Cloning/"
      ]
    },
    {
      "cell_type": "markdown",
      "metadata": {
        "id": "V8MyjO5C3dus"
      },
      "source": [
        "install all dependencies using pip"
      ]
    },
    {
      "cell_type": "code",
      "execution_count": null,
      "metadata": {
        "id": "e-tTMeDV3dut"
      },
      "outputs": [],
      "source": [
        "!pip install -r requirements.txt"
      ]
    },
    {
      "cell_type": "markdown",
      "metadata": {
        "id": "Z7BZRMzM3duw"
      },
      "source": [
        "Download pretrained model from google drive"
      ]
    },
    {
      "cell_type": "code",
      "execution_count": null,
      "metadata": {
        "id": "6bQh-bCH3du4"
      },
      "outputs": [],
      "source": [
        "!gdown https://drive.google.com/uc?id=1n1sPXvT34yXFLT47QZA6FIRGrwMeSsZc"
      ]
    },
    {
      "cell_type": "markdown",
      "metadata": {
        "id": "TXJ4zdF83dvs"
      },
      "source": [
        "extract the downloaded model"
      ]
    },
    {
      "cell_type": "code",
      "execution_count": null,
      "metadata": {
        "id": "iDpCDV9K3dwB"
      },
      "outputs": [],
      "source": [
        "!unzip pretrained.zip"
      ]
    },
    {
      "cell_type": "markdown",
      "metadata": {
        "id": "74XKxUkA3dxj"
      },
      "source": [
        "Run the demo"
      ]
    },
    {
      "cell_type": "code",
      "execution_count": null,
      "metadata": {
        "id": "EwBxM4V73dxl"
      },
      "outputs": [],
      "source": [
        "!python demo_cli.py --no_sound"
      ]
    }
  ],
  "metadata": {
    "kernelspec": {
      "display_name": "Python 3",
      "language": "python",
      "name": "python3"
    },
    "language_info": {
      "codemirror_mode": {
        "name": "ipython",
        "version": 3
      },
      "file_extension": ".py",
      "mimetype": "text/x-python",
      "name": "python",
      "nbconvert_exporter": "python",
      "pygments_lexer": "ipython3",
      "version": "3.7.7"
    },
    "colab": {
      "name": "Real-time-voice-cloning.ipynb",
      "provenance": []
    }
  },
  "nbformat": 4,
  "nbformat_minor": 0
}